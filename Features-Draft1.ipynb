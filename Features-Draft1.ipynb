{
 "cells": [
  {
   "cell_type": "code",
   "execution_count": null,
   "id": "c5013de0",
   "metadata": {},
   "outputs": [],
   "source": [
    "button_pin = 23          # INPUT: normally low (internal pull down), will go high when pressed\n",
    "led_pin = 24             # OUTPUT: normally low, want to go high to turn on lights\n",
    "button_light_pin = 25    # OUTPUT: if low, no button light; if high, button light\n",
    "\n",
    "# import pandas as pd\n",
    "# import numpy as np\n",
    "# import datetime\n",
    "# from datetime import *\n",
    "import time\n",
    "import RPi.GPIO as GPIO\n",
    "# import spidev\n",
    "\n",
    "# https://stackoverflow.com/questions/51879185/how-to-mock-rpi-gpio-in-python\n",
    "\n",
    "def LEDs_off():                      # flood lights off\n",
    "    GPIO.output(led_pin, GPIO.LOW)\n",
    "#     GPIO.output(button_light_pin, GPIO.LOW)\n",
    "    \n",
    "def LEDs_on():                       # flood lights on\n",
    "    GPIO.output(led_pin, GPIO.HIGH)\n",
    "#     GPIO.output(button_light_pin, GPIO.HIGH)    \n",
    "\n",
    "def button_callback(channel):        # source: https://raspberrypihq.com/use-a-push-button-with-raspberry-pi-gpio/\n",
    "    print(\"Button was pushed\")\n",
    "    n=0\n",
    "    while True:\n",
    "        if n % 2 == 1:                # if n is even, button is off; turn on when n is odd\n",
    "            LEDs_on()\n",
    "            n+=1\n",
    "#             start = time.time()\n",
    "#             if time.now() - start >= 60:        # check if time exceeds 60 seconds (later to be 60 minutes)\n",
    "#                 LEDs_off()\n",
    "#                 n += 1\n",
    "        else:\n",
    "            LEDs_off()\n",
    "\n",
    "\n",
    "GPIO.setwarnings(False)\n",
    "GPIO.setmode(GPIO.BCM)\n",
    "\n",
    "GPIO.setup(button_pin, GPIO.IN, pull_up_down=GPIO.PUD_DOWN) \n",
    "GPIO.setup(led_pin, GPIO.OUT, initial=GPIO.LOW)\n",
    "# GPIO.setup(button_light_pin, GPIO.OUT, initial=GPIO.LOW)\n",
    "\n",
    "GPIO.add_event_detect(button_pin,GPIO.RISING,callback=button_callback)    # Setup event on pin's rising edge"
   ]
  },
  {
   "cell_type": "code",
   "execution_count": null,
   "id": "7f4a3a03",
   "metadata": {},
   "outputs": [],
   "source": []
  }
 ],
 "metadata": {
  "kernelspec": {
   "display_name": "Python 3 (ipykernel)",
   "language": "python",
   "name": "python3"
  },
  "language_info": {
   "codemirror_mode": {
    "name": "ipython",
    "version": 3
   },
   "file_extension": ".py",
   "mimetype": "text/x-python",
   "name": "python",
   "nbconvert_exporter": "python",
   "pygments_lexer": "ipython3",
   "version": "3.9.7"
  }
 },
 "nbformat": 4,
 "nbformat_minor": 5
}
