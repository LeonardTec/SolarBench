{
 "cells": [
  {
   "cell_type": "code",
   "execution_count": 19,
   "id": "15ea5734",
   "metadata": {},
   "outputs": [
    {
     "name": "stdout",
     "output_type": "stream",
     "text": [
      "before\n",
      "2022-05-25 22:40:20\n",
      "22:40:00\n",
      "desired adc except: 0\n"
     ]
    },
    {
     "data": {
      "text/plain": [
       "0"
      ]
     },
     "execution_count": 19,
     "metadata": {},
     "output_type": "execute_result"
    }
   ],
   "source": [
    "import pandas as pd\n",
    "import numpy as np\n",
    "import datetime\n",
    "from datetime import *\n",
    "import time\n",
    "\n",
    "filename = 'adc_by_time.csv'\n",
    "adc_by_time = pd.read_csv(filename)\n",
    "adc_by_time = adc_by_time.drop(columns='Unnamed: 0')\n",
    "\n",
    "def timeround10(dt):                                               # function to round current time to nearest 10 min\n",
    "    a, b = divmod(round(dt.minute, -1), 60)\n",
    "    rounded_time = '%i:%02i' % ((dt.hour + a) % 24, b)\n",
    "    rounded_time = datetime.strptime(rounded_time,\"%H:%M\")\n",
    "    rounded_time = rounded_time.strftime(\"%H:%M:%S\")\n",
    "    return rounded_time\n",
    "\n",
    "def get_adc():\n",
    "    try:\n",
    "        now = datetime.strptime(str(datetime.now()),\"%Y-%m-%d %H:%M:%S.%f\")\n",
    "        month = int(now.strftime(\"%m\"))\n",
    "        time_striffed = now.strftime(\"%H:%M:%S\")\n",
    "        time_stripped = datetime.strptime(time_striffed,\"%H:%M:%S\")\n",
    "        month_df = adc_by_time.loc[adc_by_time['Month'] == month]\n",
    "        lookup_time = timeround10(time_stripped)                         # rounds to nearest 10 min\n",
    "        new_df = month_df.loc[month_df['Time'] == lookup_time]\n",
    "        desired_adc = int(new_df.to_numpy()[0][3])                       # find desired adc based on time\n",
    "        print(\"before\")\n",
    "        print(x) # to break the try\n",
    "    except:\n",
    "        try:\n",
    "            time = datetime(2022,5,25,22,40,20)\n",
    "            print(time)\n",
    "            month = int(time.strftime(\"%m\"))\n",
    "            time_striffed = time.strftime(\"%H:%M:%S\")\n",
    "            time_stripped = datetime.strptime(time_striffed,\"%H:%M:%S\")\n",
    "            month_df = adc_by_time.loc[adc_by_time['Month'] == month]\n",
    "            lookup_time = timeround10(time_stripped)                         # rounds to nearest 10 min\n",
    "            print(lookup_time)\n",
    "            new_df = month_df.loc[month_df['Time'] == lookup_time]\n",
    "            desired_adc = int(new_df.to_numpy()[0][3])   \n",
    "            print(\"desired adc except:\", desired_adc)\n",
    "        except:\n",
    "            desired_adc = 650\n",
    "    return (desired_adc)\n",
    "\n",
    "\n",
    "get_adc()"
   ]
  },
  {
   "cell_type": "code",
   "execution_count": null,
   "id": "712d7a9f",
   "metadata": {},
   "outputs": [],
   "source": []
  }
 ],
 "metadata": {
  "kernelspec": {
   "display_name": "Python 3 (ipykernel)",
   "language": "python",
   "name": "python3"
  },
  "language_info": {
   "codemirror_mode": {
    "name": "ipython",
    "version": 3
   },
   "file_extension": ".py",
   "mimetype": "text/x-python",
   "name": "python",
   "nbconvert_exporter": "python",
   "pygments_lexer": "ipython3",
   "version": "3.9.7"
  }
 },
 "nbformat": 4,
 "nbformat_minor": 5
}
